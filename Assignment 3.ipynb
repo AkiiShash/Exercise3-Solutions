{
 "cells": [
  {
   "cell_type": "markdown",
   "id": "9ecd3013-518b-4750-b7fb-e1709aa2d17a",
   "metadata": {},
   "source": [
    "## **Assignment 3**\n",
    "## Akila Shashiduni Jathun Arachchige\n",
    "### 2024. 09. 17"
   ]
  },
  {
   "cell_type": "code",
   "execution_count": 103,
   "id": "55a11dad-b802-4644-8983-6427c605b8d6",
   "metadata": {},
   "outputs": [
    {
     "data": {
      "text/plain": [
       "30"
      ]
     },
     "execution_count": 103,
     "metadata": {},
     "output_type": "execute_result"
    }
   ],
   "source": [
    "product = lambda x , y : x * y\n",
    "output = product ( 5 , 6 )\n",
    "output"
   ]
  },
  {
   "cell_type": "code",
   "execution_count": 104,
   "id": "98036fa3-a0d2-47ea-ab43-700e27029747",
   "metadata": {},
   "outputs": [
    {
     "data": {
      "text/plain": [
       "314.1592653589793"
      ]
     },
     "execution_count": 104,
     "metadata": {},
     "output_type": "execute_result"
    }
   ],
   "source": [
    "import math\n",
    "def circle_area (radius):\n",
    "    return math.pi * radius ** 2\n",
    "area = circle_area(10)\n",
    "area"
   ]
  },
  {
   "cell_type": "code",
   "execution_count": 105,
   "id": "504a8a86-d77e-43b2-ac5f-bb1ec5905d82",
   "metadata": {},
   "outputs": [
    {
     "data": {
      "text/plain": [
       "0.4"
      ]
     },
     "execution_count": 105,
     "metadata": {},
     "output_type": "execute_result"
    }
   ],
   "source": [
    "def simple_calculator (number1, number2, operation):\n",
    "    if operation == 'addition':\n",
    "        return number1 + number2\n",
    "    elif operation == 'subtraction':\n",
    "        return number1 - number2\n",
    "    elif operation == 'multiplication':\n",
    "        return number1 * number2\n",
    "    elif operation == 'division':\n",
    "        if number2!= 0:\n",
    "            return number1 / number2\n",
    "        else:\n",
    "            return \" Division by 0 error  \"\n",
    "    else:\n",
    "        return \" Invalid operation \"\n",
    "\n",
    "result = simple_calculator ( 2, 5, 'division' )\n",
    "result\n",
    "        "
   ]
  },
  {
   "cell_type": "code",
   "execution_count": 106,
   "id": "b13a0e89-596a-452e-9bab-4f7dbd3abdf3",
   "metadata": {},
   "outputs": [
    {
     "name": "stdout",
     "output_type": "stream",
     "text": [
      "50\n"
     ]
    }
   ],
   "source": [
    "class Rectangle:\n",
    "    def __init__(self,length,width):\n",
    "        self.length = length\n",
    "        self.width = width\n",
    "        \n",
    "    def area(self):\n",
    "        return self.length * self.width\n",
    "\n",
    "r = Rectangle(5,10)\n",
    "area_result = r.area()\n",
    "print(area_result)\n",
    "        \n",
    "    "
   ]
  },
  {
   "cell_type": "code",
   "execution_count": 107,
   "id": "fb73ef50-154d-44ef-a8b7-9a550d660b54",
   "metadata": {},
   "outputs": [
    {
     "name": "stdout",
     "output_type": "stream",
     "text": [
      " The area is: 25 \n",
      " This is a: square \n"
     ]
    }
   ],
   "source": [
    "class Shape:\n",
    "    def __init__(self, name):\n",
    "        self.name = name\n",
    "    def area(self):\n",
    "        return 0\n",
    "    def describe(self):\n",
    "        return f\" This is a: {self.name} \"\n",
    "\n",
    "class Square(Shape):\n",
    "    def __init__(self, name, length):\n",
    "        super().__init__(name)\n",
    "        self.length = length\n",
    "    def area(self):\n",
    "        return self.length * self.length\n",
    "    def describe(self):\n",
    "        return super().describe()\n",
    "\n",
    "s = Square('square',5)\n",
    "print(f\" The area is: {s.area()} \" ) \n",
    "print (s.describe())"
   ]
  },
  {
   "cell_type": "code",
   "execution_count": null,
   "id": "becb96f2-7eff-4aeb-9d90-703cd3cb87f8",
   "metadata": {},
   "outputs": [],
   "source": []
  }
 ],
 "metadata": {
  "kernelspec": {
   "display_name": "Python 3 (ipykernel)",
   "language": "python",
   "name": "python3"
  },
  "language_info": {
   "codemirror_mode": {
    "name": "ipython",
    "version": 3
   },
   "file_extension": ".py",
   "mimetype": "text/x-python",
   "name": "python",
   "nbconvert_exporter": "python",
   "pygments_lexer": "ipython3",
   "version": "3.12.4"
  }
 },
 "nbformat": 4,
 "nbformat_minor": 5
}
